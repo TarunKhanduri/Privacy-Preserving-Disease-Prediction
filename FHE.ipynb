{
 "cells": [
  {
   "cell_type": "code",
   "execution_count": 75,
   "metadata": {},
   "outputs": [],
   "source": [
    "import numpy as np\n",
    "import pandas as pd\n",
    "from sklearn.preprocessing import StandardScaler\n",
    "from sklearn.model_selection import train_test_split\n",
    "from sklearn import svm\n",
    "from sklearn.metrics import accuracy_score\n",
    "import tenseal as ts\n",
    "\n"
   ]
  },
  {
   "cell_type": "code",
   "execution_count": 76,
   "metadata": {},
   "outputs": [
    {
     "data": {
      "text/plain": [
       "SVC(kernel='linear')"
      ]
     },
     "execution_count": 76,
     "metadata": {},
     "output_type": "execute_result"
    }
   ],
   "source": [
    "# Load the heart disease data\n",
    "heart_data = pd.read_csv('heart_disease_data.csv')\n",
    "\n",
    "# Preprocessing\n",
    "X = heart_data.drop(columns='target', axis=1)\n",
    "Y = heart_data['target']\n",
    "\n",
    "scaler = StandardScaler()\n",
    "scaler.fit(X)\n",
    "standardized_data = scaler.transform(X)\n",
    "X = standardized_data\n",
    "\n",
    "# Split the data into training and testing sets\n",
    "X_train, X_test, Y_train, Y_test = train_test_split(X, Y, test_size=0.4, stratify=Y, random_state=2)\n",
    "\n",
    "# Train the model\n",
    "model = svm.SVC(kernel='linear')\n",
    "model.fit(X_train, Y_train)"
   ]
  },
  {
   "cell_type": "code",
   "execution_count": 77,
   "metadata": {},
   "outputs": [
    {
     "name": "stdout",
     "output_type": "stream",
     "text": [
      "Accuracy score on training data:  0.856353591160221\n"
     ]
    }
   ],
   "source": [
    "# Perform predictions on the training set\n",
    "X_train_prediction = model.predict(X_train)\n",
    "training_data_accuracy = accuracy_score(X_train_prediction, Y_train)\n",
    "print('Accuracy score on training data: ', training_data_accuracy)\n"
   ]
  },
  {
   "cell_type": "code",
   "execution_count": 78,
   "metadata": {},
   "outputs": [
    {
     "name": "stdout",
     "output_type": "stream",
     "text": [
      "Accuracy score on testing data:  0.819672131147541\n"
     ]
    }
   ],
   "source": [
    "\n",
    "# Perform predictions on the testing set\n",
    "X_test_prediction = model.predict(X_test)\n",
    "test_data_accuracy = accuracy_score(X_test_prediction, Y_test)\n",
    "print('Accuracy score on testing data: ', test_data_accuracy)\n"
   ]
  },
  {
   "cell_type": "code",
   "execution_count": 79,
   "metadata": {},
   "outputs": [],
   "source": [
    "\n",
    "# Now, let's perform homomorphic encryption on the model and data\n",
    "context = ts.context(ts.SCHEME_TYPE.CKKS, poly_modulus_degree=8192, coeff_mod_bit_sizes=[60, 40, 40, 60])\n",
    "context.global_scale = 2**40\n",
    "context.generate_galois_keys()\n",
    "\n",
    "# Encrypt the test data\n",
    "enc_X_test = [ts.ckks_vector(context, X_test[i, :].tolist()) for i in range(len(X_test))]\n",
    "\n"
   ]
  },
  {
   "cell_type": "code",
   "execution_count": 80,
   "metadata": {},
   "outputs": [],
   "source": [
    "\n",
    "# Encrypt the model coefficients\n",
    "enc_model_coef = ts.ckks_vector(context, model.coef_[0].tolist())"
   ]
  },
  {
   "cell_type": "code",
   "execution_count": 81,
   "metadata": {},
   "outputs": [],
   "source": [
    "# Perform encrypted prediction\n",
    "enc_predictions = [enc_X_test[i].dot(enc_model_coef) for i in range(len(X_test))]\n"
   ]
  },
  {
   "cell_type": "code",
   "execution_count": 82,
   "metadata": {},
   "outputs": [],
   "source": [
    "# Decrypt the predictions\n",
    "decrypted_predictions = [vec.decrypt() for vec in enc_predictions]"
   ]
  },
  {
   "cell_type": "code",
   "execution_count": 83,
   "metadata": {},
   "outputs": [
    {
     "name": "stdout",
     "output_type": "stream",
     "text": [
      "Accuracy score on encrypted testing data:  0.7950819672131147\n"
     ]
    }
   ],
   "source": [
    "# Flatten the list of lists obtained from decryption\n",
    "flat_decrypted_predictions = [item for sublist in decrypted_predictions for item in sublist]\n",
    "\n",
    "# Set a threshold for classification\n",
    "threshold = 0.50\n",
    "\n",
    "# Convert continuous predictions to binary (0 or 1)\n",
    "binary_predictions = [1 if pred >= threshold else 0 for pred in flat_decrypted_predictions]\n",
    "\n",
    "# Evaluate accuracy on encrypted predictions\n",
    "encrypted_test_data_accuracy = accuracy_score(binary_predictions, Y_test)\n",
    "print('Accuracy score on encrypted testing data: ', encrypted_test_data_accuracy)\n"
   ]
  },
  {
   "cell_type": "code",
   "execution_count": 84,
   "metadata": {},
   "outputs": [],
   "source": [
    "# Encrypt the input data (a vector of features)\n",
    "input_data = np.array([44,0,2,108,141,0,1,175,0,0.6,1,0,2])\n",
    "enc_input_data = ts.ckks_vector(context, input_data.tolist())\n"
   ]
  },
  {
   "cell_type": "code",
   "execution_count": 85,
   "metadata": {},
   "outputs": [
    {
     "name": "stdout",
     "output_type": "stream",
     "text": [
      "<tenseal.tensors.ckksvector.CKKSVector object at 0x000001C8A434FFD0>\n"
     ]
    }
   ],
   "source": [
    "print(enc_input_data)"
   ]
  },
  {
   "cell_type": "code",
   "execution_count": 86,
   "metadata": {},
   "outputs": [
    {
     "name": "stdout",
     "output_type": "stream",
     "text": [
      "[39.894015959531295]\n"
     ]
    }
   ],
   "source": [
    "\n",
    "\n",
    "# Perform encrypted prediction\n",
    "enc_prediction = enc_input_data.dot(enc_model_coef)\n",
    "\n",
    "# Decrypt the prediction\n",
    "decrypted_prediction = enc_prediction.decrypt()\n",
    "\n",
    "print(decrypted_prediction)"
   ]
  }
 ],
 "metadata": {
  "kernelspec": {
   "display_name": "base",
   "language": "python",
   "name": "python3"
  },
  "language_info": {
   "codemirror_mode": {
    "name": "ipython",
    "version": 3
   },
   "file_extension": ".py",
   "mimetype": "text/x-python",
   "name": "python",
   "nbconvert_exporter": "python",
   "pygments_lexer": "ipython3",
   "version": "3.9.13"
  }
 },
 "nbformat": 4,
 "nbformat_minor": 2
}
