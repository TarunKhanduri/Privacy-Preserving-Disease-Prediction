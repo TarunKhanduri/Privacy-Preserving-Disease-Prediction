{
 "cells": [
  {
   "cell_type": "code",
   "execution_count": 13,
   "metadata": {},
   "outputs": [],
   "source": [
    "import numpy as np\n",
    "import pandas as pd\n",
    "from sklearn.preprocessing import StandardScaler\n",
    "from sklearn.model_selection import train_test_split\n",
    "from sklearn.svm import SVC\n",
    "from sklearn.metrics import accuracy_score"
   ]
  },
  {
   "cell_type": "code",
   "execution_count": 14,
   "metadata": {},
   "outputs": [],
   "source": [
    "# Load heart disease dataset\n",
    "heart_data = pd.read_csv('heart_disease_data.csv')"
   ]
  },
  {
   "cell_type": "code",
   "execution_count": 15,
   "metadata": {},
   "outputs": [],
   "source": [
    "\n",
    "# Separate features and target variable\n",
    "X = heart_data.drop(columns='target', axis=1)\n",
    "Y = heart_data['target']"
   ]
  },
  {
   "cell_type": "code",
   "execution_count": 16,
   "metadata": {},
   "outputs": [],
   "source": [
    "\n",
    "# Standardize features\n",
    "scaler = StandardScaler()\n",
    "scaler.fit(X)\n",
    "standardized_data = scaler.transform(X)\n",
    "X = standardized_data\n"
   ]
  },
  {
   "cell_type": "code",
   "execution_count": 17,
   "metadata": {},
   "outputs": [],
   "source": [
    "\n",
    "# Split the dataset into training and testing sets\n",
    "X_train, X_test, Y_train, Y_test = train_test_split(X, Y, test_size=0.4, stratify=Y, random_state=2)"
   ]
  },
  {
   "cell_type": "code",
   "execution_count": 18,
   "metadata": {},
   "outputs": [
    {
     "data": {
      "text/plain": [
       "SVC(kernel='linear')"
      ]
     },
     "execution_count": 18,
     "metadata": {},
     "output_type": "execute_result"
    }
   ],
   "source": [
    "\n",
    "# Train SVM model\n",
    "model = SVC(kernel='linear')\n",
    "model.fit(X_train, Y_train)"
   ]
  },
  {
   "cell_type": "code",
   "execution_count": 19,
   "metadata": {},
   "outputs": [
    {
     "name": "stdout",
     "output_type": "stream",
     "text": [
      "Training Accuracy: 0.856353591160221\n",
      "Testing Accuracy: 0.819672131147541\n"
     ]
    }
   ],
   "source": [
    "\n",
    "# Evaluate model accuracy on training and testing data\n",
    "train_predictions = model.predict(X_train)\n",
    "train_accuracy = accuracy_score(train_predictions, Y_train)\n",
    "print('Training Accuracy:', train_accuracy)\n",
    "\n",
    "test_predictions = model.predict(X_test)\n",
    "test_accuracy = accuracy_score(test_predictions, Y_test)\n",
    "print('Testing Accuracy:', test_accuracy)\n"
   ]
  },
  {
   "cell_type": "code",
   "execution_count": 20,
   "metadata": {},
   "outputs": [],
   "source": [
    "\n",
    "# Function to add Laplace noise to the prediction\n",
    "def add_laplace_noise(prediction, sensitivity, epsilon):\n",
    "    scale = sensitivity / epsilon\n",
    "    noise = np.random.laplace(0.0, scale)\n",
    "    return prediction + noise"
   ]
  },
  {
   "cell_type": "code",
   "execution_count": 27,
   "metadata": {},
   "outputs": [
    {
     "name": "stdout",
     "output_type": "stream",
     "text": [
      "Accuracy on Testing Data after Adding Noise: 0.7377049180327869\n"
     ]
    }
   ],
   "source": [
    "# Adding Laplace noise to the raw predictions\n",
    "epsilon = 0.5  # Set your desired privacy parameter\n",
    "sensitivity = 1  # Sensitivity depends on the scale of the prediction output\n",
    "raw_predictions = model.decision_function(X_test)\n",
    "X_test_prediction_noisy = [add_laplace_noise(pred, sensitivity, epsilon) for pred in raw_predictions]\n",
    "\n",
    "# Convert raw predictions to binary predictions\n",
    "binary_predictions_noisy = [1 if pred >= 0 else 0 for pred in X_test_prediction_noisy]\n",
    "\n",
    "# Evaluate accuracy on testing data after noise\n",
    "test_data_accuracy_noisy = accuracy_score(binary_predictions_noisy, Y_test)\n",
    "print('Accuracy on Testing Data after Adding Noise:', test_data_accuracy_noisy)"
   ]
  },
  {
   "cell_type": "code",
   "execution_count": 28,
   "metadata": {},
   "outputs": [],
   "source": [
    "\n",
    "\n",
    "# Example input for prediction\n",
    "input_data = np.array([67, 0, 0, 106, 223, 0, 1, 142, 0, 0.3, 2, 2, 2]).reshape(1, -1)\n"
   ]
  },
  {
   "cell_type": "code",
   "execution_count": 29,
   "metadata": {},
   "outputs": [
    {
     "name": "stderr",
     "output_type": "stream",
     "text": [
      "d:\\apps\\anaconda\\lib\\site-packages\\sklearn\\base.py:450: UserWarning: X does not have valid feature names, but StandardScaler was fitted with feature names\n",
      "  warnings.warn(\n"
     ]
    }
   ],
   "source": [
    "\n",
    "# Standardize the input data\n",
    "std_input_data = scaler.transform(input_data)\n"
   ]
  },
  {
   "cell_type": "code",
   "execution_count": 30,
   "metadata": {},
   "outputs": [],
   "source": [
    "\n",
    "# Perform prediction\n",
    "prediction = model.predict(std_input_data)\n"
   ]
  },
  {
   "cell_type": "code",
   "execution_count": 31,
   "metadata": {},
   "outputs": [
    {
     "name": "stdout",
     "output_type": "stream",
     "text": [
      "The person has heart disease\n"
     ]
    }
   ],
   "source": [
    "\n",
    "# Adding Laplace noise to the prediction\n",
    "epsilon = 0.5  # Set your desired privacy parameter\n",
    "sensitivity = 1  # Sensitivity depends on the scale of the prediction output\n",
    "noisy_prediction = add_laplace_noise(prediction, sensitivity, epsilon)\n",
    "\n",
    "if noisy_prediction < 0.5:  # Threshold for classification (adjust according to your model)\n",
    "    print('The person does not have heart disease')\n",
    "else:\n",
    "    print('The person has heart disease')\n"
   ]
  }
 ],
 "metadata": {
  "kernelspec": {
   "display_name": "base",
   "language": "python",
   "name": "python3"
  },
  "language_info": {
   "codemirror_mode": {
    "name": "ipython",
    "version": 3
   },
   "file_extension": ".py",
   "mimetype": "text/x-python",
   "name": "python",
   "nbconvert_exporter": "python",
   "pygments_lexer": "ipython3",
   "version": "3.9.13"
  }
 },
 "nbformat": 4,
 "nbformat_minor": 2
}
